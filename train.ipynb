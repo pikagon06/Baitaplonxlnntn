{
 "cells": [
  {
   "cell_type": "markdown",
   "id": "c9d1e4d0-84f6-4f17-ab6e-1b05e9dd5d73",
   "metadata": {},
   "source": [
    "## Giới thiệu và Nhập Thư viện"
   ]
  },
  {
   "cell_type": "code",
   "execution_count": 21,
   "id": "d3912c59-d988-45a5-b5b2-31fd4fc4121b",
   "metadata": {},
   "outputs": [],
   "source": [
    "import numpy as np\n",
    "import random\n",
    "import json\n",
    "\n",
    "import torch\n",
    "import torch.nn as nn\n",
    "from torch.utils.data import Dataset, DataLoader\n",
    "\n",
    "# gọi nltk_utils.py và model.py \n",
    "from nltk_utils import bag_of_words, tokenize, stem\n",
    "from model import NeuralNet"
   ]
  },
  {
   "cell_type": "markdown",
   "id": "169bc52f-4107-4153-abf6-69ee9da4825a",
   "metadata": {},
   "source": [
    "## Tải và Xử lý Sơ bộ Dữ liệu Ý định (Intents)"
   ]
  },
  {
   "cell_type": "code",
   "execution_count": 22,
   "id": "760d95ad-8cb5-4f0a-85cb-7022e6a03138",
   "metadata": {},
   "outputs": [],
   "source": [
    "with open('intents.json', encoding='utf-8') as f:\n",
    "    intents = json.load(f)\n",
    "\n",
    "all_words = []\n",
    "tags = []\n",
    "xy = []\n",
    "# Lặp qua mỗi câu trong các mẫu ý định\n",
    "for intent in intents['intents']:\n",
    "    tag = intent['tag']\n",
    "    # Thêm vào danh sách tag\n",
    "    tags.append(tag)\n",
    "    for pattern in intent['patterns']:\n",
    "        # Tokenize mỗi từ trong câu\n",
    "        w = tokenize(pattern)\n",
    "        # Thêm vào danh sách từ của chúng ta\n",
    "        all_words.extend(w)\n",
    "        # Thêm vào cặp xy\n",
    "        xy.append((w, tag))\n",
    "    "
   ]
  },
  {
   "cell_type": "markdown",
   "id": "67b199bb-4bb9-48be-be53-f5d3b250766a",
   "metadata": {},
   "source": [
    "## Tiền xử lý Dữ liệu Văn bản"
   ]
  },
  {
   "cell_type": "code",
   "execution_count": 23,
   "id": "1b948a91-c993-4cfc-95e7-b266ec71853e",
   "metadata": {},
   "outputs": [
    {
     "name": "stdout",
     "output_type": "stream",
     "text": [
      "66 patterns\n",
      "12 tags: ['delivery', 'feedback', 'funny', 'goodbye', 'greeting', 'hours', 'items', 'location', 'payments', 'reservation', 'special_request', 'thanks']\n",
      "196 unique stemmed words: [',', '5', 'ai', 'bao', 'biết', 'biệt', 'buổi', 'bàn', 'bán', 'bâi', 'bạn', 'bản', 'bật', 'bằng', 'bị', 'cay', 'chay', 'chi', 'cho', 'chuyện', 'chuẩn', 'chào', 'chúc', 'chấp', 'chỉ', 'cuối', 'các', 'cách', 'câu', 'có', 'cười', 'cảm', 'cần', 'cầu', 'cọc', 'của', 'cửa', 'dị', 'dịch', 'dụng', 'gian', 'giao', 'giá', 'giúp', 'giới', 'giờ', 'gì', 'góp', 'gần', 'gặp', 'gửi', 'hay', 'hoặc', 'hài', 'hàng', 'hành', 'hãi', 'hôm', 'hơn', 'hước', 'hẹn', 'hồi', 'hữu', 'khen', 'khi', 'khác', 'khách', 'không', 'khỏe', 'kiến', 'kể', 'liên', 'là', 'làm', 'lâu', 'lòng', 'lưu', 'lại', 'lần', 'lễ', 'mastercard', 'menu', 'momo', 'muối', 'muốn', 'món', 'mấi', 'mất', 'mặt', 'một', 'mới', 'mở', 'nay', 'nghe', 'ngài', 'người', 'ngợi', 'nhanh', 'nhiều', 'nhà', 'nhánh', 'nhé', 'nhóm', 'nhất', 'nhận', 'nhật', 'những', 'nài', 'nào', 'nói', 'nơi', 'nằm', 'nếu', 'nổi', 'phí', 'phản', 'phố', 'phộng', 'qua', 'quan', 'quay', 'ramen', 'rất', 'sao', 'sau', 'sushi', 'sáng', 'sẽ', 'sớm', 'sự', 'thanh', 'thiệu', 'thành', 'thêm', 'thì', 'thích', 'thông', 'thật', 'thẻ', 'thế', 'thể', 'thời', 'tin', 'tiền', 'tiện', 'toán', 'trung', 'trước', 'trả', 'trống', 'tuyệt', 'tuần', 'tâm', 'tín', 'tôi', 'tạm', 'tận', 'tối', 'tốn', 'tử', 'visa', 'vui', 'và', 'vào', 'vì', 'ví', 'vậi', 'về', 'với', 'vụ', 'xin', 'yêu', 'zalopay', 'ích', 'ít', 'ý', 'ăn', 'đi', 'điện', 'đánh', 'đâi', 'đâu', 'đó', 'đùa', 'được', 'đậu', 'đặc', 'đặt', 'đến', 'để', 'địa', 'đồ', 'đỡ', 'ơn', 'ở', 'ứng']\n"
     ]
    }
   ],
   "source": [
    "# Stem và chuyển mỗi từ thành chữ thường\n",
    "ignore_words = ['?', '.', '!']\n",
    "all_words = [stem(w) for w in all_words if w not in ignore_words]\n",
    "# Loại bỏ các từ trùng lặp và sắp xếp\n",
    "all_words = sorted(set(all_words))\n",
    "tags = sorted(set(tags))\n",
    "\n",
    "print(len(xy), \"patterns\")\n",
    "print(len(tags), \"tags:\", tags)\n",
    "print(len(all_words), \"unique stemmed words:\", all_words)"
   ]
  },
  {
   "cell_type": "markdown",
   "id": "f3a00388-4fb9-4cf2-9814-222c01abd937",
   "metadata": {},
   "source": [
    "##  Tạo Dữ liệu Huấn luyện"
   ]
  },
  {
   "cell_type": "code",
   "execution_count": 24,
   "id": "b94a3969-0441-4e98-89a7-81c0c55d1df7",
   "metadata": {},
   "outputs": [],
   "source": [
    "# Tạo dữ liệu huấn luyện\n",
    "X_train = []\n",
    "y_train = []\n",
    "for (pattern_sentence, tag) in xy:\n",
    "    # X: bag of words cho mỗi pattern_sentence\n",
    "    bag = bag_of_words(pattern_sentence, all_words)\n",
    "    X_train.append(bag)\n",
    "    # y: PyTorch CrossEntropyLoss chỉ cần nhãn lớp, không phải one-hot\n",
    "    label = tags.index(tag)\n",
    "    y_train.append(label)\n",
    "\n",
    "X_train = np.array(X_train)\n",
    "y_train = np.array(y_train)"
   ]
  },
  {
   "cell_type": "markdown",
   "id": "0a68d76f-f323-4cba-8c16-93c268b507e7",
   "metadata": {},
   "source": [
    "## Định nghĩa Siêu tham số và Kích thước Mô hình"
   ]
  },
  {
   "cell_type": "code",
   "execution_count": 25,
   "id": "448efe29-8856-4119-a786-37c0258d207a",
   "metadata": {},
   "outputs": [
    {
     "name": "stdout",
     "output_type": "stream",
     "text": [
      "input_size: 196\n",
      "output_size: 12\n"
     ]
    }
   ],
   "source": [
    "# Siêu tham số\n",
    "num_epochs = 300\n",
    "batch_size = 8\n",
    "learning_rate = 0.001\n",
    "input_size = len(X_train[0])\n",
    "hidden_size = 8\n",
    "output_size = len(tags)\n",
    "print(\"input_size:\", input_size)\n",
    "print(\"output_size:\", output_size)"
   ]
  },
  {
   "cell_type": "markdown",
   "id": "86701dba-23a4-4f1f-9b3e-1e9bf4a57418",
   "metadata": {},
   "source": [
    "## Tạo Lớp ChatDataset (Dataset tùy chỉnh của PyTorch)"
   ]
  },
  {
   "cell_type": "code",
   "execution_count": 26,
   "id": "c6cd29cd-5a49-4dd2-8eb4-48111f2d3037",
   "metadata": {},
   "outputs": [],
   "source": [
    "class ChatDataset(Dataset):\n",
    "\n",
    "    def __init__(self):\n",
    "        self.n_samples = len(X_train)\n",
    "        self.x_data = X_train\n",
    "        self.y_data = y_train\n",
    "\n",
    "    # Hỗ trợ lập chỉ mục để dataset[i] có thể được sử dụng để lấy mẫu thứ i\n",
    "    def __getitem__(self, index):\n",
    "        return self.x_data[index], self.y_data[index]\n",
    "\n",
    "    # Chúng ta có thể gọi len(dataset) để trả về kích thước\n",
    "    def __len__(self):\n",
    "        return self.n_samples"
   ]
  },
  {
   "cell_type": "markdown",
   "id": "f663d9da-5876-486f-89b2-1ca02edb84a5",
   "metadata": {},
   "source": [
    "## Tạo DataLoader"
   ]
  },
  {
   "cell_type": "code",
   "execution_count": 27,
   "id": "493e9972-45f5-4cbb-97f5-ac8117d49f5f",
   "metadata": {},
   "outputs": [],
   "source": [
    "dataset = ChatDataset()\n",
    "train_loader = DataLoader(dataset=dataset,\n",
    "                          batch_size=batch_size,\n",
    "                          shuffle=True,\n",
    "                          num_workers=0)"
   ]
  },
  {
   "cell_type": "markdown",
   "id": "76a6f487-17cb-4117-8b20-de0402868bae",
   "metadata": {},
   "source": [
    "## Khởi tạo Mô hình, Hàm Mất mát và Trình Tối ưu hóa"
   ]
  },
  {
   "cell_type": "code",
   "execution_count": 28,
   "id": "274a8c0b-b55f-49d3-94c9-bd8461b99ae6",
   "metadata": {},
   "outputs": [],
   "source": [
    "device = torch.device('cuda' if torch.cuda.is_available() else 'cpu')\n",
    "\n",
    "model = NeuralNet(input_size, hidden_size, output_size).to(device)\n",
    "\n",
    "# Hàm mất mát và trình tối ưu hóa\n",
    "criterion = nn.CrossEntropyLoss()\n",
    "optimizer = torch.optim.Adam(model.parameters(), lr=learning_rate)"
   ]
  },
  {
   "cell_type": "markdown",
   "id": "25e8e25c-43f7-45eb-a3f9-47664babdbf8",
   "metadata": {},
   "source": [
    "## Huấn luyện Mô hình"
   ]
  },
  {
   "cell_type": "code",
   "execution_count": 29,
   "id": "bdddc12a-d8d3-4690-9f92-3f8b05343226",
   "metadata": {},
   "outputs": [
    {
     "name": "stdout",
     "output_type": "stream",
     "text": [
      "Epoch [100/300], Loss: 0.1104\n",
      "Epoch [200/300], Loss: 0.0207\n",
      "Epoch [300/300], Loss: 0.0026\n"
     ]
    }
   ],
   "source": [
    "# Huấn luyện mô hình\n",
    "for epoch in range(num_epochs):\n",
    "    for (words, labels) in train_loader:\n",
    "        words = words.to(device)\n",
    "        # labels cần được chuyển đổi sang kiểu LongTensor cho CrossEntropyLoss\n",
    "        labels = labels.to(dtype=torch.long).to(device)\n",
    "        \n",
    "        # Lan truyền tiến (Forward pass)\n",
    "        outputs = model(words)\n",
    "        # Nếu y là one-hot, chúng ta phải áp dụng\n",
    "        # labels = torch.max(labels, 1)[1]\n",
    "        loss = criterion(outputs, labels)\n",
    "        \n",
    "        # Lan truyền ngược và tối ưu hóa (Backward and optimize)\n",
    "        optimizer.zero_grad()\n",
    "        loss.backward()\n",
    "        optimizer.step()\n",
    "        \n",
    "    if (epoch+1) % 100 == 0:\n",
    "        print (f'Epoch [{epoch+1}/{num_epochs}], Loss: {loss.item():.4f}')"
   ]
  },
  {
   "cell_type": "markdown",
   "id": "1227019b-2e61-4282-b808-f08533e79cd7",
   "metadata": {},
   "source": [
    "## In Mất mát Cuối cùng và Lưu Mô hình"
   ]
  },
  {
   "cell_type": "code",
   "execution_count": 30,
   "id": "ead66afc-4109-48b1-8bf8-a72105898c02",
   "metadata": {},
   "outputs": [
    {
     "name": "stdout",
     "output_type": "stream",
     "text": [
      "final loss: 0.0026\n"
     ]
    }
   ],
   "source": [
    "print(f'final loss: {loss.item():.4f}')\n",
    "\n",
    "data = {\n",
    "\"model_state\": model.state_dict(),\n",
    "\"input_size\": input_size,\n",
    "\"hidden_size\": hidden_size,\n",
    "\"output_size\": output_size,\n",
    "\"all_words\": all_words,\n",
    "\"tags\": tags\n",
    "}\n",
    "\n",
    "FILE = \"data.pth\"\n",
    "torch.save(data, FILE)\n"
   ]
  },
  {
   "cell_type": "code",
   "execution_count": null,
   "id": "1510dca8-fcfd-4924-916d-00c9b648df7d",
   "metadata": {},
   "outputs": [],
   "source": []
  },
  {
   "cell_type": "code",
   "execution_count": null,
   "id": "67975e11-d64b-4c00-8285-be56206f622b",
   "metadata": {},
   "outputs": [],
   "source": []
  },
  {
   "cell_type": "code",
   "execution_count": null,
   "id": "67593bdb-1168-4229-b785-4bdfb14d54d5",
   "metadata": {},
   "outputs": [],
   "source": []
  },
  {
   "cell_type": "code",
   "execution_count": null,
   "id": "72ce6dc3-24cb-406a-9407-509ecf6ee1c8",
   "metadata": {},
   "outputs": [],
   "source": []
  }
 ],
 "metadata": {
  "kernelspec": {
   "display_name": "Python 3 (ipykernel)",
   "language": "python",
   "name": "python3"
  },
  "language_info": {
   "codemirror_mode": {
    "name": "ipython",
    "version": 3
   },
   "file_extension": ".py",
   "mimetype": "text/x-python",
   "name": "python",
   "nbconvert_exporter": "python",
   "pygments_lexer": "ipython3",
   "version": "3.12.6"
  }
 },
 "nbformat": 4,
 "nbformat_minor": 5
}
